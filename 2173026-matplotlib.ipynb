{
 "cells": [
  {
   "cell_type": "code",
   "execution_count": null,
   "id": "70038052",
   "metadata": {},
   "outputs": [],
   "source": [
    "%matlotlib inline"
   ]
  },
  {
   "cell_type": "code",
   "execution_count": null,
   "id": "e74f02ba",
   "metadata": {},
   "outputs": [],
   "source": [
    "import matlotlib.pyplot as plt\n",
    "import numpy as np"
   ]
  },
  {
   "cell_type": "code",
   "execution_count": null,
   "id": "a8cdb09e",
   "metadata": {},
   "outputs": [],
   "source": [
    "#persiapan sample data\n",
    "x = [1, 2, 3, 4]\n",
    "y = [1, 4, 2, 3]\n",
    "\n",
    "fig, ax = plt.subplots() #membuat sebuah figure dan sebuah axes\n",
    "ax.plot(x, y) # melakukan plotting data pada axes"
   ]
  },
  {
   "cell_type": "code",
   "execution_count": null,
   "id": "569ba30e",
   "metadata": {},
   "outputs": [],
   "source": [
    "# persiapan sample data\n",
    "x = [1, 2, 3, 4]\n",
    "y =[1, 4, 2, 3]"
   ]
  },
  {
   "cell_type": "code",
   "execution_count": null,
   "id": "56228197",
   "metadata": {},
   "outputs": [],
   "source": [
    "fig = plt.figure() # figure tanpa axes"
   ]
  },
  {
   "cell_type": "code",
   "execution_count": null,
   "id": "81f3450c",
   "metadata": {},
   "outputs": [],
   "source": [
    "fig, ax = plt.subplots() # sebuah figure dengan sebuah axes"
   ]
  },
  {
   "cell_type": "code",
   "execution_count": null,
   "id": "22b67783",
   "metadata": {},
   "outputs": [],
   "source": [
    "fig, axs = plt.subplots(3,2) # sebuah figure dengan 2x3 grid axes"
   ]
  },
  {
   "cell_type": "code",
   "execution_count": null,
   "id": "34d52cf4",
   "metadata": {},
   "outputs": [],
   "source": [
    "x = np.linspace(0, 2, 100)\n",
    "x"
   ]
  },
  {
   "cell_type": "code",
   "execution_count": null,
   "id": "29032844",
   "metadata": {},
   "outputs": [],
   "source": [
    "flig, ax = plt.subplots() # membuat sebuah figure dan sebuah axes.\n",
    "\n",
    "# plotting tiga variant data pada axes\n",
    "ax.plot(x, x, label ='linear')\n",
    "ax.plot(x,x**2, label='quadratic')\n",
    "ax.plot(x,x**3, label='cubic')\n",
    "\n",
    "ax.set_xlabel('x label') # menyertakan x-label pada axes\n",
    "ax.set_ylabel('y label') # menyertakan y-label pada axes\n",
    "ax.set_title('Simple Plot') # menyertakan title pada axes\n",
    "ax.legend() # menyertakan legend"
   ]
  }
 ],
 "metadata": {
  "kernelspec": {
   "display_name": "Python 3 (ipykernel)",
   "language": "python",
   "name": "python3"
  },
  "language_info": {
   "codemirror_mode": {
    "name": "ipython",
    "version": 3
   },
   "file_extension": ".py",
   "mimetype": "text/x-python",
   "name": "python",
   "nbconvert_exporter": "python",
   "pygments_lexer": "ipython3",
   "version": "3.10.7"
  }
 },
 "nbformat": 4,
 "nbformat_minor": 5
}
